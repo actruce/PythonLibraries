{
 "cells": [
  {
   "cell_type": "markdown",
   "metadata": {},
   "source": [
    "### Plotting histogram"
   ]
  },
  {
   "cell_type": "code",
   "execution_count": 1,
   "metadata": {},
   "outputs": [],
   "source": [
    "import numpy as np\n",
    "\n",
    "normal = np.random.randn(100)"
   ]
  },
  {
   "cell_type": "code",
   "execution_count": 2,
   "metadata": {},
   "outputs": [
    {
     "data": {
      "text/plain": [
       "Text(0.07, 0.68, 'mean:= 0.13\\n    std:=  0.97')"
      ]
     },
     "execution_count": 2,
     "metadata": {},
     "output_type": "execute_result"
    },
    {
     "data": {
      "image/png": "[encoded data removed]",
      "text/plain": [
       "<Figure size 432x288 with 1 Axes>"
      ]
     },
     "metadata": {
      "needs_background": "light"
     },
     "output_type": "display_data"
    }
   ],
   "source": [
    "# reference link : https://realpython.com/python-histograms/\n",
    "import matplotlib.pyplot as plt\n",
    "\n",
    "fig = plt.figure()\n",
    "ax1 = fig.add_subplot(1,1,1)\n",
    "\n",
    "ax1.hist(normal, rwidth=0.85)\n",
    "ax1.yaxis.grid(alpha = 0.75)\n",
    "ax1.set_ylim([0, 20])\n",
    "ax1.set_xlabel('Bins')\n",
    "ax1.set_ylabel('Freq.')\n",
    "ax1.set_title('Histogram of np.random.randn')\n",
    "\n",
    "mu = normal.mean().round(2)\n",
    "std = normal.std().round(2)\n",
    "ax1.text(0.07, 0.68, 'mean:= {}\\n    std:=  {}'.format(mu, std), transform=ax1.transAxes)"
   ]
  },
  {
   "cell_type": "markdown",
   "metadata": {},
   "source": [
    "### 3.1 Making a Function to plot histogram"
   ]
  },
  {
   "cell_type": "code",
   "execution_count": 3,
   "metadata": {},
   "outputs": [],
   "source": [
    "# Reference : https://matplotlib.org/faq/usage_faq.html\n",
    "def histogram_plotter(ax, data, hist_param_dict, xlabel='Bins', ylabel='Freq.', title='Histogram of data'):\n",
    "    \"\"\" A helper function to make a histogram\n",
    "\n",
    "    Parameters\n",
    "    ----------\n",
    "    ax (Axes) : The axes to draw to\n",
    "    data (array) : The x data\n",
    "    xlabel (str) : x-axis label\n",
    "    ylabel (str) : y-axis label\n",
    "    title (str) : title of subplot\n",
    "    hist_param_dict (dict) : Dictionary of kwargs to pass to ax.plot\n",
    "\n",
    "    Returns\n",
    "    -------\n",
    "    out (list) : list of artists added \"\"\"\n",
    "    \n",
    "    ax.yaxis.grid(alpha = 0.75)\n",
    "    ax.set_xlabel(xlabel)\n",
    "    ax.set_ylabel(ylabel)\n",
    "    ax.set_title(title)\n",
    "    out = ax.hist(data, **hist_param_dict)\n",
    "    \n",
    "    return out"
   ]
  },
  {
   "cell_type": "code",
   "execution_count": 4,
   "metadata": {},
   "outputs": [
    {
     "data": {
      "image/png": "[encoded data removed]",
      "text/plain": [
       "<Figure size 432x288 with 1 Axes>"
      ]
     },
     "metadata": {
      "needs_background": "light"
     },
     "output_type": "display_data"
    }
   ],
   "source": [
    "fig = plt.figure()\n",
    "ax1 = fig.add_subplot(1,1,1)\n",
    "\n",
    "hist = histogram_plotter(ax1, normal, {'rwidth':0.85}, title='Histogram of np.random.randn')"
   ]
  }
 ],
 "metadata": {
  "kernelspec": {
   "display_name": "Python 3",
   "language": "python",
   "name": "python3"
  },
  "language_info": {
   "codemirror_mode": {
    "name": "ipython",
    "version": 3
   },
   "file_extension": ".py",
   "mimetype": "text/x-python",
   "name": "python",
   "nbconvert_exporter": "python",
   "pygments_lexer": "ipython3",
   "version": "3.7.7"
  }
 },
 "nbformat": 4,
 "nbformat_minor": 4
}
