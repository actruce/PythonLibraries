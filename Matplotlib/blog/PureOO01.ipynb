{
 "cells": [
  {
   "cell_type": "code",
   "execution_count": 1,
   "metadata": {},
   "outputs": [],
   "source": [
    "from matplotlib.backends.backend_agg import FigureCanvasAgg as FigureCanvas\n",
    "from matplotlib.figure import Figure\n",
    "\n",
    "fig = Figure()\n",
    "# A canvas must be manually attached to the figure (pyplot would automatically\n",
    "# do it).  This is done by instantiating the canvas with the figure as\n",
    "# argument.\n",
    "FigureCanvas(fig)\n",
    "ax = fig.add_subplot(111)\n",
    "ax.plot([1, 2, 3])\n",
    "ax.set_title('hi mom')\n",
    "ax.grid(True)\n",
    "ax.set_xlabel('time')\n",
    "ax.set_ylabel('volts')\n",
    "fig.savefig('test')"
   ]
  }
 ],
 "metadata": {
  "kernelspec": {
   "display_name": "Python 3",
   "language": "python",
   "name": "python3"
  },
  "language_info": {
   "codemirror_mode": {
    "name": "ipython",
    "version": 3
   },
   "file_extension": ".py",
   "mimetype": "text/x-python",
   "name": "python",
   "nbconvert_exporter": "python",
   "pygments_lexer": "ipython3",
   "version": "3.7.7"
  }
 },
 "nbformat": 4,
 "nbformat_minor": 4
}
